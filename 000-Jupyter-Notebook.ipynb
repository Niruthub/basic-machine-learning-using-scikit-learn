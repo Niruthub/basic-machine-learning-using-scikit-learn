{
 "cells": [
  {
   "attachments": {},
   "cell_type": "markdown",
   "metadata": {},
   "source": [
    "# Jupyter\n",
    "\n",
    "Jupyter หรือ Jupyter Notebook เป็น Kernel ของโปรแกรม Python ที่ทำให้สามารถคำนวณ และติดต่อสื่อสารกับ Frontend ได้สะดวก โดยเป็นการทำงานผ่านเว็บบราวเซอร์\n",
    "\n",
    "![alt text](http://jupyter.readthedocs.io/en/latest/_images/notebook_components.png \"Kernel\")"
   ]
  },
  {
   "cell_type": "markdown",
   "metadata": {},
   "source": [
    "## วิธีการติดตั้ง Jupyter \n",
    "\n",
    "การติดตั้งโปรแกรม Jupyter สามารถติดตั้งผ่าน Terminal โดยใช้คำสั่ง\n",
    "```\n",
    "$ pip install jupyter\n",
    "```\n",
    "\n",
    "ตัวอย่างข้างต้นเป็นการติดตั้งสำหรับ Python เวอร์ชัน 2 แต่หากเป็นเวอร์ชัน 3 จะต้องใช้คำสั่ง\n",
    "\n",
    "```\n",
    "$ pip3 install jupyter\n",
    "```"
   ]
  },
  {
   "cell_type": "markdown",
   "metadata": {},
   "source": [
    "## วิธีการเรียกใช้\n",
    "\n",
    "เมื่อติดตั้งเสร็จสามารถเรียกใช้โปรแกรม Jupyter โดยพิมพ์คำสั่งดังต่อไปนี้ที่ Terminal\n",
    "\n",
    "```\n",
    "$ jupyter notebook\n",
    "```\n",
    "\n",
    "จากนั้นโปรแกรมจะทำการเปิดเว็บบราวเซอร์ ณ ตำแหน่งที่อยู่ปัจจุบัน ดังนั้น หากต้องการที่จะให้โปรแกรม Jupyter รันในโฟลเดอร์ไหนให้เปิด Terminal ที่ตำแหน่งที่ต้องการ"
   ]
  },
  {
   "cell_type": "markdown",
   "metadata": {},
   "source": [
    "![alt text](https://www.dataquest.io/blog/content/images/interface-screenshot.png \"Jupyter\")"
   ]
  },
  {
   "cell_type": "markdown",
   "metadata": {},
   "source": [
    "## File extension\n",
    "\n",
    "โปรแกรม Jupyter จะมีนามสกุล (extension) เป็น .ipynb ซึ่งจะแตกต่างจากโปรแกรม Python ที่จะมีนามสกุลเป็น .py"
   ]
  },
  {
   "cell_type": "markdown",
   "metadata": {},
   "source": [
    "โปรแกรม Jupyter จะเก็บข้อมูลในรูปแบบของ JSON ดังตัวอย่างต่อไปนี้\n",
    "\n",
    "```\n",
    "{\n",
    " \"cells\": [\n",
    "  {\n",
    "   \"attachments\": {},\n",
    "   \"cell_type\": \"markdown\",\n",
    "   \"metadata\": {},\n",
    "   \"source\": [\n",
    "    \"# Jupyter\\n\",\n",
    "    \"\\n\",\n",
    "    \"Jupyter Notebook เป็น Kernel ของโปรแกรม Python ที่ทำให้สามารถคำนวณ และติดต่อสื่อสารกับ frontend interface โดยเป็นการทำงานผ่านเว็บบราวเซอร์\\n\",\n",
    "    \"\\n\",\n",
    "    \"![alt text](http://jupyter.readthedocs.io/en/latest/_images/notebook_components.png \\\"Kernel\\\")\"\n",
    "   ]\n",
    "  },\n",
    "```"
   ]
  }
 ],
 "metadata": {
  "kernelspec": {
   "display_name": "Python 2",
   "language": "python",
   "name": "python2"
  },
  "language_info": {
   "codemirror_mode": {
    "name": "ipython",
    "version": 2
   },
   "file_extension": ".py",
   "mimetype": "text/x-python",
   "name": "python",
   "nbconvert_exporter": "python",
   "pygments_lexer": "ipython2",
   "version": "2.7.12"
  }
 },
 "nbformat": 4,
 "nbformat_minor": 2
}
